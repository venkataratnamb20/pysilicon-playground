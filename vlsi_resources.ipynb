{
  "nbformat": 4,
  "nbformat_minor": 0,
  "metadata": {
    "colab": {
      "provenance": [],
      "authorship_tag": "ABX9TyM+uwLqw003bXPxHFVYTb58",
      "include_colab_link": true
    },
    "kernelspec": {
      "name": "python3",
      "display_name": "Python 3"
    },
    "language_info": {
      "name": "python"
    }
  },
  "cells": [
    {
      "cell_type": "markdown",
      "metadata": {
        "id": "view-in-github",
        "colab_type": "text"
      },
      "source": [
        "<a href=\"https://colab.research.google.com/github/venkataratnamb20/pysilicon-playground/blob/main/vlsi_resources.ipynb\" target=\"_parent\"><img src=\"https://colab.research.google.com/assets/colab-badge.svg\" alt=\"Open In Colab\"/></a>"
      ]
    },
    {
      "cell_type": "markdown",
      "source": [
        "# Resources"
      ],
      "metadata": {
        "id": "Nyp8H8hcCuQS"
      }
    },
    {
      "cell_type": "code",
      "execution_count": null,
      "metadata": {
        "id": "pvD8xCzYCq_S"
      },
      "outputs": [],
      "source": []
    },
    {
      "cell_type": "markdown",
      "source": [
        "## tools\n",
        "- [Youtube: Python to HDL: full Amaranth walkthrough to FPGA and ASIC GDS](https://youtu.be/yJxAX7gCpvQ?si=0lQTPhjCFd8SBByQ)\n",
        "  - [git/neptune](https://github.com/psychogenic/neptune/blob/main/neptune/discriminator.py)"
      ],
      "metadata": {
        "id": "bX1xWETUCyVC"
      }
    },
    {
      "cell_type": "markdown",
      "source": [
        "## Cocotb\n"
      ],
      "metadata": {
        "id": "J30rHwoZIpF9"
      }
    },
    {
      "cell_type": "markdown",
      "source": [
        "### Readings\n",
        "- [cocotb docs/analog model](https://docs.cocotb.org/en/stable/analog_model.html)\n",
        "- [cocotb/examples](https://docs.cocotb.org/en/stable/examples.html)\n",
        "- [snyk/examples](https://snyk.io/advisor/python/cocotb/example)\n",
        "- [github/adder](https://github.com/mattvenn/instrumented_adder)\n",
        "- [gdrive-colab: openlane and cocotb](https://colab.research.google.com/drive/12bmaPilhnlzrzCAyhQUcmVPIzzZLyy78)\n",
        "  - [colab: openlan workshop](https://colab.research.google.com/github/chipsalliance/silicon-notebooks/blob/main/xls-workshop-openlane.ipynb#scrollTo=gGJyxdq0ATtX)\n",
        "- [Running sims with different tools](https://eda-playground.readthedocs.io/en/latest/settings.html)\n",
        "- [Ways to run cocotb: makefiles, cocotb-test, or your custom setup](https://marketingeda.com/event/ways-to-run-cocotb-makefiles-cocotb-test-or-your-custom-setup/)\n",
        "- [Open source and CI-driven RTL testing and verification for Caliptra’s RISC-V VeeR core](https://opensource.googleblog.com/2023/11/open-source-and-ci-driven-rtl-testing-and-verification-caliptra-risc-v-veer-core.html)\n",
        "- [stackoverflow](https://stackoverflow.com/questions/74438269/creating-a-csv-file-on-ubuntu-server-using-cocotb)"
      ],
      "metadata": {
        "id": "mD9zxnJVIrkA"
      }
    },
    {
      "cell_type": "code",
      "source": [],
      "metadata": {
        "id": "4EE1oiYYGTTv"
      },
      "execution_count": null,
      "outputs": []
    },
    {
      "cell_type": "code",
      "source": [],
      "metadata": {
        "id": "9vhG4F47GWpB"
      },
      "execution_count": null,
      "outputs": []
    },
    {
      "cell_type": "markdown",
      "source": [
        "## PySpice\n",
        "- [PySpice Docs](https://pyspice.fabrice-salvaire.fr/releases/v1.5/api/PySpice/Spice/Netlist.html?highlight=class)\n"
      ],
      "metadata": {
        "id": "5ZM2p0ThNcGs"
      }
    },
    {
      "cell_type": "code",
      "source": [],
      "metadata": {
        "id": "NP49ogCyNjfE"
      },
      "execution_count": null,
      "outputs": []
    },
    {
      "cell_type": "markdown",
      "source": [
        "## Chatgpt promt: Example ASIC Design\n",
        "- [Efabless: webinar](https://efabless.com/genai/challenges/3)\n",
        "- [Microcontroller PeriBlock Design Guide](https://chat.openai.com/share/457c9e4e-9950-4739-9ed0-502bd9b02155)\n",
        "-\n"
      ],
      "metadata": {
        "id": "zCutAOvKZqRD"
      }
    },
    {
      "cell_type": "markdown",
      "source": [
        "## SerDes\n",
        "\n",
        "- [analogicus: Lecture 8 - Clocks and PLLs](https://analogicus.com/aic2023/2023/03/16/Lecture-8-Clocks-and-PLLs.html)\n",
        "  - [github/wulffern/sun_pll_sky130nm](https://github.com/wulffern/sun_pll_sky130nm/blob/main/py/pll.py)\n",
        "  - [voltage regulation](https://analogicus.com/aic2023/2023/03/09/Lecture-7-Voltage-regulation.html)\n",
        "- [Ultra Low Power Frequency Synthesizer](https://ntnuopen.ntnu.no/ntnu-xmlui/handle/11250/2778127)\n",
        "\n",
        "### Youtube\n",
        "- [Identifying PCIe 3 0 Dynamic Equalization Problems](https://youtu.be/Md--uk47ZTQ?si=dCHAK1c4-GkgEzVX)\n",
        "- [PCI Express Physical Layer](https://youtu.be/EHkuzkNWXFk?si=mfCLqc0-mus9Yvjb)\n",
        "- [PCIe Architecture: Lecture-1](https://youtu.be/caiREMKP0-E?si=PXq2YYqu2fmZ9TNs)\n",
        "- [PCIe Architecture : PCIe Enumeration](https://youtu.be/gavtRQN09ew?si=Ihl3pYk3RgKohp6o)\n",
        "- [PCIe® 5.0 Protocol and Electrical Compliance Testing Deep Dive](https://youtu.be/sR-HScJvHpQ?si=d7m5NxS4vCLszrBg)\n",
        "- [PCIe 5.0 SerDes Test and Analysis](https://youtu.be/2N6zh8142F4?si=iF3PkZ0P4CfRIna9)\n",
        "- [PCIe® 6.0 Specification: The Interconnect for I/O Needs of the future](https://youtu.be/jhehXwnu0Ss?si=qqpw1piOsJFFB4QY)\n",
        "- [IEEE SSCS: SSCS CICCedu 2019 - Digital PLL - Presented by Mike Shuo-Wei Chen](https://youtu.be/EGSBVRIuYnk?si=pJsZlKiCNO7_bRlH)\n",
        "- [IEEE SSCS: Evolutional of the SAR ADC Michael Flynn](https://youtu.be/LVp739P7B9A?si=pa9NpFetZ-41eikr)\n",
        "- [IEEE SSCS: Fundamental Concepts in Jitter and Phase Noise Presented by Ali Sheik Holeslami](https://youtu.be/E8k5z3FdsA0?si=4y1AZKsxhBEsQhsb)\n",
        "- [IEEE SSCS Playlist](https://www.youtube.com/watch?v=EGSBVRIuYnk&list=RDCMUCmnrdxAhy8LHpGmt-TcTmYg&index=9)\n",
        "- [Ali Hajimiri: 187N. Intro. to phase-locked loops (PLL) noise](https://youtu.be/aVd7vAeJYzk?si=Wbz9nU7E05e4cUkM)\n",
        "- [Ali Hajimiri: 185N. Phase noise in oscillators (introduction)](https://youtu.be/wByzymJ0Ppc?si=KUxXCuj9i3qMrXdu)\n",
        "- [NTPEL IITM: Design of Time-to-Digital Converter](https://youtu.be/5vIlDo0gHKo?si=cqHnUUlF9Jo-6h72)\n",
        "- [NTPEL IITM: Introduction to Digital PLL](https://youtu.be/4BhDUEjl0HU?si=DAe_Syot0M4uivjK)\n",
        "- [PLL Phase Locked Loop on LTSpice](https://youtu.be/Zg4cCoXDg_w?si=bHmtC4DKarH3Tm0U)\n",
        "\n"
      ],
      "metadata": {
        "id": "bpSBjpWMhKjR"
      }
    },
    {
      "cell_type": "markdown",
      "source": [
        "## IEEE\n",
        "- [SSCS: Open Access papers](https://resourcecenter.sscs.ieee.org/publications/open-access-papers)\n",
        "- [SSCS: Short Courses](https://resourcecenter.sscs.ieee.org/education/short-courses)\n",
        "[SSCS: High-Speed and Mixed-Signal Circuit Design Techniques in FinFET Technology for Wireline and Optical Interface](https://resourcecenter.sscs.ieee.org/education/short-courses/sscs2020sc0020?check_logged_in=1)\n",
        "- [SSCS: Modeling and RF Design Considerations for Advanced CMOS Technology Video](https://resourcecenter.sscs.ieee.org/education/short-courses/sscs2020sc0010)"
      ],
      "metadata": {
        "id": "JYMPm1NrQtiV"
      }
    }
  ]
}